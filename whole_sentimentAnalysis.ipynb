{
 "cells": [
  {
   "cell_type": "code",
   "execution_count": 1,
   "metadata": {},
   "outputs": [],
   "source": [
    "import pandas as pd"
   ]
  },
  {
   "cell_type": "code",
   "execution_count": 2,
   "metadata": {},
   "outputs": [],
   "source": [
    "df = pd.read_excel('Merged file.xlsx')"
   ]
  },
  {
   "cell_type": "code",
   "execution_count": 3,
   "metadata": {},
   "outputs": [
    {
     "data": {
      "text/html": [
       "<div>\n",
       "<style scoped>\n",
       "    .dataframe tbody tr th:only-of-type {\n",
       "        vertical-align: middle;\n",
       "    }\n",
       "\n",
       "    .dataframe tbody tr th {\n",
       "        vertical-align: top;\n",
       "    }\n",
       "\n",
       "    .dataframe thead th {\n",
       "        text-align: right;\n",
       "    }\n",
       "</style>\n",
       "<table border=\"1\" class=\"dataframe\">\n",
       "  <thead>\n",
       "    <tr style=\"text-align: right;\">\n",
       "      <th></th>\n",
       "      <th>Tweets</th>\n",
       "    </tr>\n",
       "  </thead>\n",
       "  <tbody>\n",
       "    <tr>\n",
       "      <th>0</th>\n",
       "      <td>Reality of Hindi Media sorry godi Media. \\n#Ma...</td>\n",
       "    </tr>\n",
       "    <tr>\n",
       "      <th>1</th>\n",
       "      <td>यह हक़ सिर्फ, झूठ को है कि \\nवह ज़ोर से बोले, ...</td>\n",
       "    </tr>\n",
       "    <tr>\n",
       "      <th>2</th>\n",
       "      <td>#Kurukshetra | राहुल गांधी कहते हैं कि हिंदू ट...</td>\n",
       "    </tr>\n",
       "    <tr>\n",
       "      <th>3</th>\n",
       "      <td>#ManipurVoilence के बीच कुकी महिलाओं को निर्वस...</td>\n",
       "    </tr>\n",
       "    <tr>\n",
       "      <th>4</th>\n",
       "      <td>#Kurukshetra | I-N-D-I-A से कोई इंडिया नहीं हो...</td>\n",
       "    </tr>\n",
       "  </tbody>\n",
       "</table>\n",
       "</div>"
      ],
      "text/plain": [
       "                                              Tweets\n",
       "0  Reality of Hindi Media sorry godi Media. \\n#Ma...\n",
       "1  यह हक़ सिर्फ, झूठ को है कि \\nवह ज़ोर से बोले, ...\n",
       "2  #Kurukshetra | राहुल गांधी कहते हैं कि हिंदू ट...\n",
       "3  #ManipurVoilence के बीच कुकी महिलाओं को निर्वस...\n",
       "4  #Kurukshetra | I-N-D-I-A से कोई इंडिया नहीं हो..."
      ]
     },
     "execution_count": 3,
     "metadata": {},
     "output_type": "execute_result"
    }
   ],
   "source": [
    "df.head()"
   ]
  },
  {
   "cell_type": "code",
   "execution_count": 4,
   "metadata": {},
   "outputs": [],
   "source": [
    "from langdetect import detect"
   ]
  },
  {
   "cell_type": "code",
   "execution_count": 5,
   "metadata": {},
   "outputs": [
    {
     "name": "stderr",
     "output_type": "stream",
     "text": [
      "[nltk_data] Downloading package punkt to\n",
      "[nltk_data]     /Users/rishavghosh/nltk_data...\n",
      "[nltk_data]   Package punkt is already up-to-date!\n",
      "[nltk_data] Downloading package stopwords to\n",
      "[nltk_data]     /Users/rishavghosh/nltk_data...\n",
      "[nltk_data]   Package stopwords is already up-to-date!\n"
     ]
    },
    {
     "data": {
      "text/plain": [
       "True"
      ]
     },
     "execution_count": 5,
     "metadata": {},
     "output_type": "execute_result"
    }
   ],
   "source": [
    "import nltk\n",
    "from nltk.corpus import stopwords\n",
    "from nltk.tokenize import word_tokenize\n",
    "\n",
    "nltk.download('punkt')\n",
    "nltk.download('stopwords')"
   ]
  },
  {
   "cell_type": "code",
   "execution_count": 6,
   "metadata": {},
   "outputs": [],
   "source": [
    "hindi_stopwords = [\n",
    "    \"मैं\", \"मुझको\", \"मेरा\", \"अपने आप को\", \"हमने\", \"हमारा\", \"अपना\", \"हम\",\n",
    "    \"आप\", \"आपका\", \"तुम्हारा\", \"अपने आप\", \"स्वयं\", \"वह\", \"इसे\", \"उसके\", \"खुद को\",\n",
    "    \"कि वह\", \"उसकी\", \"उसका\", \"खुद ही\", \"यह\", \"इसके\", \"उन्होने\", \"अपने\", \"क्या\",\n",
    "    \"जो\", \"किसे\", \"किसको\", \"कि\", \"ये\", \"हूँ\", \"होता है\", \"रहे\", \"थी\", \"थे\", \"होना\",\n",
    "    \"गया\", \"किया जा रहा है\", \"किया है\", \"है\", \"पडा\", \"होने\", \"करना\", \"करता है\",\n",
    "    \"किया\", \"रही\", \"एक\", \"लेकिन\", \"अगर\", \"या\", \"क्यूंकि\", \"जैसा\", \"जब तक\",\n",
    "    \"जबकि\", \"की\", \"पर\", \"द्वारा\", \"के लिए\", \"साथ\", \"के बारे में\", \"खिलाफ\", \"बीच\",\n",
    "    \"में\", \"के माध्यम से\", \"दौरान\", \"से पहले\", \"के बाद\", \"ऊपर\", \"नीचे\", \"को\",\n",
    "    \"से\", \"तक\", \"से नीचे\", \"करने में\", \"निकल\", \"बंद\", \"से अधिक\", \"तहत\", \"दुबारा\",\n",
    "    \"आगे\", \"फिर\", \"एक बार\", \"यहाँ\", \"वहाँ\", \"कब\", \"कहाँ\", \"क्यों\", \"कैसे\",\n",
    "    \"सारे\", \"किसी\", \"दोनों\", \"प्रत्येक\", \"ज्यादा\", \"अधिकांश\", \"अन्य\", \"में कुछ\",\n",
    "    \"ऐसा\", \"में कोई\", \"मात्र\", \"खुद\", \"समान\", \"इसलिए\", \"बहुत\", \"सकता\", \"जायेंगे\",\n",
    "    \"जरा\", \"चाहिए\", \"अभी\", \"और\", \"कर दिया\", \"रखें\", \"का\", \"हैं\", \"इस\", \"होता\",\n",
    "    \"करने\", \"ने\", \"बनी\", \"तो\", \"ही\", \"हो\", \"इसका\", \"था\", \"हुआ\", \"वाले\", \"बाद\",\n",
    "    \"लिए\", \"सकते\", \"इसमें\", \"दो\", \"वे\", \"करते\", \"कहा\", \"वर्ग\", \"कई\", \"करें\",\n",
    "    \"होती\", \"अपनी\", \"उनके\", \"यदि\", \"हुई\", \"जा\", \"कहते\", \"जब\", \"होते\", \"कोई\",\n",
    "    \"हुए\", \"व\", \"जैसे\", \"सभी\", \"करता\", \"उनकी\", \"तरह\", \"उस\", \"आदि\", \"इसकी\",\n",
    "    \"उनका\", \"इसी\", \"पे\", \"तथा\", \"भी\", \"परंतु\", \"इन\", \"कम\", \"दूर\", \"पूरे\",\n",
    "    \"गये\", \"तुम\", \"मै\", \"यहां\", \"हुये\", \"कभी\", \"अथवा\", \"गयी\", \"प्रति\", \"जाता\",\n",
    "    \"इन्हें\", \"गई\", \"अब\", \"जिसमें\", \"लिया\", \"बड़ा\", \"जाती\", \"तब\", \"उसे\",\n",
    "    \"जाते\", \"लेकर\", \"बड़े\", \"दूसरे\", \"जाने\", \"बाहर\", \"स्थान\", \"उन्हें\",\n",
    "    \"गए\", \"ऐसे\", \"जिससे\", \"समय\", \"दोनों\", \"किए\", \"रहती\", \"इनके\", \"इनका\"]\n",
    "   \n"
   ]
  },
  {
   "cell_type": "code",
   "execution_count": 7,
   "metadata": {},
   "outputs": [],
   "source": [
    "\n",
    "def preprocess_text(text, lang):\n",
    "    if lang == 'en':\n",
    "        stop_words = set(stopwords.words('english'))\n",
    "        tokens = word_tokenize(text.lower())\n",
    "    elif lang == 'hi':\n",
    "        stop_words = set(hindi_stopwords)\n",
    "        tokens = word_tokenize(text)\n",
    "    elif lang == 'id':\n",
    "        stop_words = set(stopwords.words('indonesian'))\n",
    "        tokens = word_tokenize(text)\n",
    "    elif lang == 'tl':\n",
    "        stop_words = set(stopwords.words('english'))  # Tagalog stopwords are less common\n",
    "        tokens = word_tokenize(text)\n",
    "    elif lang == 'bn':\n",
    "        stop_words = set(stopwords.words('bengali'))\n",
    "        tokens = word_tokenize(text)\n",
    "    elif lang in ['pt', 'mr', 'da', 'ca', 'fr', 'it', 'sv', 'de', 'tr', 'ml', 'pa', 'so']:\n",
    "        stop_words = set(stopwords.words('english'))  # Using English stopwords as a fallback\n",
    "        tokens = word_tokenize(text)\n",
    "    else:\n",
    "        stop_words = set()\n",
    "        tokens = word_tokenize(text)\n",
    "    \n",
    "    cleaned_tokens = [token for token in tokens if token not in stop_words]\n",
    "    return ' '.join(cleaned_tokens)"
   ]
  },
  {
   "cell_type": "code",
   "execution_count": 8,
   "metadata": {},
   "outputs": [],
   "source": [
    "def preprocess_column(row):\n",
    "    lang = detect(row)\n",
    "    preprocessed_text = preprocess_text(row, lang)\n",
    "    return preprocessed_text\n"
   ]
  },
  {
   "cell_type": "code",
   "execution_count": 9,
   "metadata": {},
   "outputs": [],
   "source": [
    "#df['Tweets'] = df['Tweets'].apply(preprocess_column)\n"
   ]
  },
  {
   "cell_type": "code",
   "execution_count": 10,
   "metadata": {},
   "outputs": [],
   "source": [
    "import re\n",
    "def clean_text(text):\n",
    "    if isinstance(text, str):\n",
    "        text = re.sub(r'[^\\w\\s]', '', text)\n",
    "        text = ' '.join(text.split())\n",
    "        return text\n",
    "    else:\n",
    "        return ''"
   ]
  },
  {
   "cell_type": "code",
   "execution_count": 11,
   "metadata": {},
   "outputs": [],
   "source": [
    "df['Tweets'] = df['Tweets'].apply(clean_text)"
   ]
  },
  {
   "cell_type": "code",
   "execution_count": 12,
   "metadata": {},
   "outputs": [
    {
     "name": "stderr",
     "output_type": "stream",
     "text": [
      "[nltk_data] Downloading package vader_lexicon to\n",
      "[nltk_data]     /Users/rishavghosh/nltk_data...\n",
      "[nltk_data]   Package vader_lexicon is already up-to-date!\n"
     ]
    },
    {
     "data": {
      "text/plain": [
       "True"
      ]
     },
     "execution_count": 12,
     "metadata": {},
     "output_type": "execute_result"
    }
   ],
   "source": [
    "nltk.download('vader_lexicon')\n"
   ]
  },
  {
   "cell_type": "code",
   "execution_count": 13,
   "metadata": {},
   "outputs": [
    {
     "data": {
      "text/html": [
       "<div>\n",
       "<style scoped>\n",
       "    .dataframe tbody tr th:only-of-type {\n",
       "        vertical-align: middle;\n",
       "    }\n",
       "\n",
       "    .dataframe tbody tr th {\n",
       "        vertical-align: top;\n",
       "    }\n",
       "\n",
       "    .dataframe thead th {\n",
       "        text-align: right;\n",
       "    }\n",
       "</style>\n",
       "<table border=\"1\" class=\"dataframe\">\n",
       "  <thead>\n",
       "    <tr style=\"text-align: right;\">\n",
       "      <th></th>\n",
       "      <th>Tweets</th>\n",
       "    </tr>\n",
       "  </thead>\n",
       "  <tbody>\n",
       "    <tr>\n",
       "      <th>0</th>\n",
       "      <td>Reality of Hindi Media sorry godi Media Manipu...</td>\n",
       "    </tr>\n",
       "    <tr>\n",
       "      <th>1</th>\n",
       "      <td>यह हक सरफ झठ क ह क वह जर स बल और वशषट बन रह कव...</td>\n",
       "    </tr>\n",
       "    <tr>\n",
       "      <th>2</th>\n",
       "      <td>Kurukshetra रहल गध कहत ह क हद टररजम खतरनक हकगर...</td>\n",
       "    </tr>\n",
       "    <tr>\n",
       "      <th>3</th>\n",
       "      <td>ManipurVoilence क बच कक महलओ क नरवसतर कर सडक प...</td>\n",
       "    </tr>\n",
       "    <tr>\n",
       "      <th>4</th>\n",
       "      <td>Kurukshetra INDIA स कई इडय नह ह जतकगरस परट दनय...</td>\n",
       "    </tr>\n",
       "  </tbody>\n",
       "</table>\n",
       "</div>"
      ],
      "text/plain": [
       "                                              Tweets\n",
       "0  Reality of Hindi Media sorry godi Media Manipu...\n",
       "1  यह हक सरफ झठ क ह क वह जर स बल और वशषट बन रह कव...\n",
       "2  Kurukshetra रहल गध कहत ह क हद टररजम खतरनक हकगर...\n",
       "3  ManipurVoilence क बच कक महलओ क नरवसतर कर सडक प...\n",
       "4  Kurukshetra INDIA स कई इडय नह ह जतकगरस परट दनय..."
      ]
     },
     "execution_count": 13,
     "metadata": {},
     "output_type": "execute_result"
    }
   ],
   "source": [
    "df.head()"
   ]
  },
  {
   "cell_type": "code",
   "execution_count": 14,
   "metadata": {},
   "outputs": [],
   "source": [
    "from nltk.sentiment.vader import SentimentIntensityAnalyzer\n",
    "sia = SentimentIntensityAnalyzer()"
   ]
  },
  {
   "cell_type": "code",
   "execution_count": 15,
   "metadata": {},
   "outputs": [],
   "source": [
    "\n",
    "def get_sentiment_score(text):\n",
    "    sentiment_scores = sia.polarity_scores(text)\n",
    "    return sentiment_scores\n",
    "\n",
    "# Apply VADER sentiment analysis and create a new column 'Sentiment'\n",
    "df['Sentiment'] = df['Tweets'].apply(get_sentiment_score)"
   ]
  },
  {
   "cell_type": "code",
   "execution_count": 16,
   "metadata": {},
   "outputs": [],
   "source": [
    "def get_sentiment_label(score):\n",
    "    if score['compound'] > 0.05:\n",
    "        return 'Positive'\n",
    "    elif score['compound'] < -0.05:\n",
    "        return 'Negative'\n",
    "    else:\n",
    "        return 'Neutral'\n",
    "\n",
    "# Apply the get_sentiment_label function to the 'Sentiment' column\n",
    "df['Sentiment_Label'] = df['Sentiment'].apply(get_sentiment_label)\n"
   ]
  },
  {
   "cell_type": "code",
   "execution_count": 17,
   "metadata": {},
   "outputs": [],
   "source": [
    "df.drop('Sentiment', axis = 1, inplace = True)"
   ]
  },
  {
   "cell_type": "code",
   "execution_count": 18,
   "metadata": {},
   "outputs": [
    {
     "data": {
      "text/html": [
       "<div>\n",
       "<style scoped>\n",
       "    .dataframe tbody tr th:only-of-type {\n",
       "        vertical-align: middle;\n",
       "    }\n",
       "\n",
       "    .dataframe tbody tr th {\n",
       "        vertical-align: top;\n",
       "    }\n",
       "\n",
       "    .dataframe thead th {\n",
       "        text-align: right;\n",
       "    }\n",
       "</style>\n",
       "<table border=\"1\" class=\"dataframe\">\n",
       "  <thead>\n",
       "    <tr style=\"text-align: right;\">\n",
       "      <th></th>\n",
       "      <th>Tweets</th>\n",
       "      <th>Sentiment_Label</th>\n",
       "    </tr>\n",
       "  </thead>\n",
       "  <tbody>\n",
       "    <tr>\n",
       "      <th>0</th>\n",
       "      <td>Reality of Hindi Media sorry godi Media Manipu...</td>\n",
       "      <td>Negative</td>\n",
       "    </tr>\n",
       "    <tr>\n",
       "      <th>1</th>\n",
       "      <td>यह हक सरफ झठ क ह क वह जर स बल और वशषट बन रह कव...</td>\n",
       "      <td>Neutral</td>\n",
       "    </tr>\n",
       "    <tr>\n",
       "      <th>2</th>\n",
       "      <td>Kurukshetra रहल गध कहत ह क हद टररजम खतरनक हकगर...</td>\n",
       "      <td>Neutral</td>\n",
       "    </tr>\n",
       "    <tr>\n",
       "      <th>3</th>\n",
       "      <td>ManipurVoilence क बच कक महलओ क नरवसतर कर सडक प...</td>\n",
       "      <td>Neutral</td>\n",
       "    </tr>\n",
       "    <tr>\n",
       "      <th>4</th>\n",
       "      <td>Kurukshetra INDIA स कई इडय नह ह जतकगरस परट दनय...</td>\n",
       "      <td>Neutral</td>\n",
       "    </tr>\n",
       "    <tr>\n",
       "      <th>...</th>\n",
       "      <td>...</td>\n",
       "      <td>...</td>\n",
       "    </tr>\n",
       "    <tr>\n",
       "      <th>676</th>\n",
       "      <td>jdhankhar1 CBI approached u in Jan 2021 4 perm...</td>\n",
       "      <td>Negative</td>\n",
       "    </tr>\n",
       "    <tr>\n",
       "      <th>677</th>\n",
       "      <td>httpstcog0AN8TxzEN Must listen BengalBurning B...</td>\n",
       "      <td>Neutral</td>\n",
       "    </tr>\n",
       "    <tr>\n",
       "      <th>678</th>\n",
       "      <td>Should be remembered by all political parties ...</td>\n",
       "      <td>Positive</td>\n",
       "    </tr>\n",
       "    <tr>\n",
       "      <th>679</th>\n",
       "      <td>ABHIJIT_LS Has Bihar got The imagejeevi is use...</td>\n",
       "      <td>Neutral</td>\n",
       "    </tr>\n",
       "    <tr>\n",
       "      <th>680</th>\n",
       "      <td>Tejasvi_Surya narendramodi Why didnt he alerte...</td>\n",
       "      <td>Neutral</td>\n",
       "    </tr>\n",
       "  </tbody>\n",
       "</table>\n",
       "<p>681 rows × 2 columns</p>\n",
       "</div>"
      ],
      "text/plain": [
       "                                                Tweets Sentiment_Label\n",
       "0    Reality of Hindi Media sorry godi Media Manipu...        Negative\n",
       "1    यह हक सरफ झठ क ह क वह जर स बल और वशषट बन रह कव...         Neutral\n",
       "2    Kurukshetra रहल गध कहत ह क हद टररजम खतरनक हकगर...         Neutral\n",
       "3    ManipurVoilence क बच कक महलओ क नरवसतर कर सडक प...         Neutral\n",
       "4    Kurukshetra INDIA स कई इडय नह ह जतकगरस परट दनय...         Neutral\n",
       "..                                                 ...             ...\n",
       "676  jdhankhar1 CBI approached u in Jan 2021 4 perm...        Negative\n",
       "677  httpstcog0AN8TxzEN Must listen BengalBurning B...         Neutral\n",
       "678  Should be remembered by all political parties ...        Positive\n",
       "679  ABHIJIT_LS Has Bihar got The imagejeevi is use...         Neutral\n",
       "680  Tejasvi_Surya narendramodi Why didnt he alerte...         Neutral\n",
       "\n",
       "[681 rows x 2 columns]"
      ]
     },
     "execution_count": 18,
     "metadata": {},
     "output_type": "execute_result"
    }
   ],
   "source": [
    "df"
   ]
  },
  {
   "cell_type": "code",
   "execution_count": 19,
   "metadata": {},
   "outputs": [],
   "source": [
    "import seaborn as sns\n",
    "import matplotlib.pyplot as plt"
   ]
  },
  {
   "cell_type": "code",
   "execution_count": 20,
   "metadata": {},
   "outputs": [
    {
     "data": {
      "text/plain": [
       "<Axes: xlabel='Sentiment_Label', ylabel='count'>"
      ]
     },
     "execution_count": 20,
     "metadata": {},
     "output_type": "execute_result"
    },
    {
     "data": {
      "image/png": "[encoded data removed]",
      "text/plain": [
       "<Figure size 640x480 with 1 Axes>"
      ]
     },
     "metadata": {},
     "output_type": "display_data"
    }
   ],
   "source": [
    "sns.countplot(data = df, x = 'Sentiment_Label')"
   ]
  },
  {
   "cell_type": "code",
   "execution_count": 21,
   "metadata": {},
   "outputs": [
    {
     "name": "stderr",
     "output_type": "stream",
     "text": [
      "/Users/rishavghosh/Library/Python/3.9/lib/python/site-packages/tqdm/auto.py:21: TqdmWarning: IProgress not found. Please update jupyter and ipywidgets. See https://ipywidgets.readthedocs.io/en/stable/user_install.html\n",
      "  from .autonotebook import tqdm as notebook_tqdm\n",
      "Xformers is not installed correctly. If you want to use memory_efficient_attention to accelerate training use the following command to install Xformers\n",
      "pip install xformers.\n"
     ]
    }
   ],
   "source": [
    "from transformers import AutoTokenizer, AutoModelForSequenceClassification\n",
    "from transformers import pipeline\n",
    "\n",
    "# Load the tokenizer and model for multilingual sentiment analysis\n",
    "model_name = \"nlptown/bert-base-multilingual-uncased-sentiment\"\n",
    "tokenizer = AutoTokenizer.from_pretrained(model_name)\n",
    "model = AutoModelForSequenceClassification.from_pretrained(model_name)\n",
    "\n",
    "# Create a sentiment analysis pipeline\n",
    "sentiment_analyzer = pipeline('sentiment-analysis', model=model, tokenizer=tokenizer)\n"
   ]
  },
  {
   "cell_type": "code",
   "execution_count": 22,
   "metadata": {},
   "outputs": [],
   "source": [
    "def get_sentiment_label(score):\n",
    "    if score < 0.4:\n",
    "        return \"Negative\"\n",
    "    elif score > 0.6:\n",
    "        return \"Positive\"\n",
    "    else:\n",
    "        return \"Neutral\"\n",
    "\n",
    "# Apply the sentiment analysis pipeline to the 'Tweets' column\n",
    "df['SentimentScore'] = df['Tweets'].apply(lambda text: sentiment_analyzer(text)[0]['score'])\n",
    "df['Sentiment_Label_transformers'] = df['SentimentScore'].apply(get_sentiment_label)"
   ]
  },
  {
   "cell_type": "code",
   "execution_count": 23,
   "metadata": {},
   "outputs": [],
   "source": [
    "df.drop('SentimentScore', axis = 1, inplace = True)"
   ]
  },
  {
   "cell_type": "code",
   "execution_count": 24,
   "metadata": {},
   "outputs": [
    {
     "data": {
      "text/html": [
       "<div>\n",
       "<style scoped>\n",
       "    .dataframe tbody tr th:only-of-type {\n",
       "        vertical-align: middle;\n",
       "    }\n",
       "\n",
       "    .dataframe tbody tr th {\n",
       "        vertical-align: top;\n",
       "    }\n",
       "\n",
       "    .dataframe thead th {\n",
       "        text-align: right;\n",
       "    }\n",
       "</style>\n",
       "<table border=\"1\" class=\"dataframe\">\n",
       "  <thead>\n",
       "    <tr style=\"text-align: right;\">\n",
       "      <th></th>\n",
       "      <th>Tweets</th>\n",
       "      <th>Sentiment_Label</th>\n",
       "      <th>Sentiment_Label_transformers</th>\n",
       "    </tr>\n",
       "  </thead>\n",
       "  <tbody>\n",
       "    <tr>\n",
       "      <th>0</th>\n",
       "      <td>Reality of Hindi Media sorry godi Media Manipu...</td>\n",
       "      <td>Negative</td>\n",
       "      <td>Neutral</td>\n",
       "    </tr>\n",
       "    <tr>\n",
       "      <th>1</th>\n",
       "      <td>यह हक सरफ झठ क ह क वह जर स बल और वशषट बन रह कव...</td>\n",
       "      <td>Neutral</td>\n",
       "      <td>Negative</td>\n",
       "    </tr>\n",
       "    <tr>\n",
       "      <th>2</th>\n",
       "      <td>Kurukshetra रहल गध कहत ह क हद टररजम खतरनक हकगर...</td>\n",
       "      <td>Neutral</td>\n",
       "      <td>Negative</td>\n",
       "    </tr>\n",
       "    <tr>\n",
       "      <th>3</th>\n",
       "      <td>ManipurVoilence क बच कक महलओ क नरवसतर कर सडक प...</td>\n",
       "      <td>Neutral</td>\n",
       "      <td>Negative</td>\n",
       "    </tr>\n",
       "    <tr>\n",
       "      <th>4</th>\n",
       "      <td>Kurukshetra INDIA स कई इडय नह ह जतकगरस परट दनय...</td>\n",
       "      <td>Neutral</td>\n",
       "      <td>Neutral</td>\n",
       "    </tr>\n",
       "  </tbody>\n",
       "</table>\n",
       "</div>"
      ],
      "text/plain": [
       "                                              Tweets Sentiment_Label  \\\n",
       "0  Reality of Hindi Media sorry godi Media Manipu...        Negative   \n",
       "1  यह हक सरफ झठ क ह क वह जर स बल और वशषट बन रह कव...         Neutral   \n",
       "2  Kurukshetra रहल गध कहत ह क हद टररजम खतरनक हकगर...         Neutral   \n",
       "3  ManipurVoilence क बच कक महलओ क नरवसतर कर सडक प...         Neutral   \n",
       "4  Kurukshetra INDIA स कई इडय नह ह जतकगरस परट दनय...         Neutral   \n",
       "\n",
       "  Sentiment_Label_transformers  \n",
       "0                      Neutral  \n",
       "1                     Negative  \n",
       "2                     Negative  \n",
       "3                     Negative  \n",
       "4                      Neutral  "
      ]
     },
     "execution_count": 24,
     "metadata": {},
     "output_type": "execute_result"
    }
   ],
   "source": [
    "df.head()"
   ]
  },
  {
   "cell_type": "code",
   "execution_count": 25,
   "metadata": {},
   "outputs": [
    {
     "data": {
      "text/plain": [
       "<Axes: xlabel='Sentiment_Label_transformers', ylabel='count'>"
      ]
     },
     "execution_count": 25,
     "metadata": {},
     "output_type": "execute_result"
    },
    {
     "data": {
      "image/png": "[encoded data removed]",
      "text/plain": [
       "<Figure size 640x480 with 1 Axes>"
      ]
     },
     "metadata": {},
     "output_type": "display_data"
    }
   ],
   "source": [
    "sns.countplot(data = df, x = 'Sentiment_Label_transformers')"
   ]
  },
  {
   "cell_type": "code",
   "execution_count": 26,
   "metadata": {},
   "outputs": [],
   "source": [
    "import numpy as np\n",
    "accurate = np.mean(df['Sentiment_Label'] == df['Sentiment_Label_transformers'])"
   ]
  },
  {
   "cell_type": "code",
   "execution_count": 27,
   "metadata": {},
   "outputs": [
    {
     "data": {
      "text/plain": [
       "0.2701908957415565"
      ]
     },
     "execution_count": 27,
     "metadata": {},
     "output_type": "execute_result"
    }
   ],
   "source": [
    "accurate"
   ]
  },
  {
   "cell_type": "code",
   "execution_count": null,
   "metadata": {},
   "outputs": [],
   "source": []
  }
 ],
 "metadata": {
  "kernelspec": {
   "display_name": "Python 3",
   "language": "python",
   "name": "python3"
  },
  "language_info": {
   "codemirror_mode": {
    "name": "ipython",
    "version": 3
   },
   "file_extension": ".py",
   "mimetype": "text/x-python",
   "name": "python",
   "nbconvert_exporter": "python",
   "pygments_lexer": "ipython3",
   "version": "3.9.6"
  },
  "orig_nbformat": 4
 },
 "nbformat": 4,
 "nbformat_minor": 2
}
