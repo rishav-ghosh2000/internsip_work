{
 "cells": [
  {
   "cell_type": "markdown",
   "metadata": {},
   "source": [
    "Average fusion"
   ]
  },
  {
   "cell_type": "code",
   "execution_count": 1,
   "metadata": {},
   "outputs": [
    {
     "data": {
      "text/plain": [
       "0.9820487334718834"
      ]
     },
     "execution_count": 1,
     "metadata": {},
     "output_type": "execute_result"
    }
   ],
   "source": [
    "accuracy_model1 = 0.9812053853799584\n",
    "accuracy_model2 = 0.9838257883798681\n",
    "accuracy_model3 = 0.9811150266558236\n",
    "\n",
    "fused_accuracy = (accuracy_model1 + accuracy_model2 + accuracy_model3) / 3\n",
    "fused_accuracy"
   ]
  },
  {
   "cell_type": "markdown",
   "metadata": {},
   "source": [
    "Weighted fusion"
   ]
  },
  {
   "cell_type": "code",
   "execution_count": 2,
   "metadata": {},
   "outputs": [
    {
     "data": {
      "text/plain": [
       "0.9822264389626819"
      ]
     },
     "execution_count": 2,
     "metadata": {},
     "output_type": "execute_result"
    }
   ],
   "source": [
    "accuracy_model1 = 0.9812053853799584\n",
    "accuracy_model2 = 0.9838257883798681\n",
    "accuracy_model3 = 0.9811150266558236\n",
    "\n",
    "weight_model1 = 0.3\n",
    "weight_model2 = 0.4\n",
    "weight_model3 = 0.3\n",
    "\n",
    "fused_accuracy = (accuracy_model1 * weight_model1 + accuracy_model2 * weight_model2 + accuracy_model3 * weight_model3)\n",
    "fused_accuracy"
   ]
  },
  {
   "cell_type": "markdown",
   "metadata": {},
   "source": [
    "Max fusion"
   ]
  },
  {
   "cell_type": "code",
   "execution_count": 3,
   "metadata": {},
   "outputs": [
    {
     "data": {
      "text/plain": [
       "0.9838257883798681"
      ]
     },
     "execution_count": 3,
     "metadata": {},
     "output_type": "execute_result"
    }
   ],
   "source": [
    "accuracy_model1 = 0.9812053853799584\n",
    "accuracy_model2 = 0.9838257883798681\n",
    "accuracy_model3 = 0.9811150266558236\n",
    "\n",
    "fused_accuracy = max(accuracy_model1, accuracy_model2, accuracy_model3)\n",
    "fused_accuracy"
   ]
  },
  {
   "cell_type": "markdown",
   "metadata": {},
   "source": [
    "Sum of product fusion"
   ]
  },
  {
   "cell_type": "code",
   "execution_count": 4,
   "metadata": {},
   "outputs": [
    {
     "data": {
      "text/plain": [
       "2.8932567742569066"
      ]
     },
     "execution_count": 4,
     "metadata": {},
     "output_type": "execute_result"
    }
   ],
   "source": [
    "fused_score = accuracy_model1 * accuracy_model2 + accuracy_model2 * accuracy_model3 + accuracy_model3 * accuracy_model1\n",
    "fused_score"
   ]
  },
  {
   "cell_type": "code",
   "execution_count": null,
   "metadata": {},
   "outputs": [],
   "source": [
    "Average fusion = 0.9820487334718834\n",
    "Weighted fusion = 0.9822264389626819\n",
    "Max fusion = 0.9838257883798681\n",
    "Sum of product fusion = 2.8932567742569066\n"
   ]
  }
 ],
 "metadata": {
  "kernelspec": {
   "display_name": "Python 3",
   "language": "python",
   "name": "python3"
  },
  "language_info": {
   "codemirror_mode": {
    "name": "ipython",
    "version": 3
   },
   "file_extension": ".py",
   "mimetype": "text/x-python",
   "name": "python",
   "nbconvert_exporter": "python",
   "pygments_lexer": "ipython3",
   "version": "3.9.6"
  }
 },
 "nbformat": 4,
 "nbformat_minor": 2
}
